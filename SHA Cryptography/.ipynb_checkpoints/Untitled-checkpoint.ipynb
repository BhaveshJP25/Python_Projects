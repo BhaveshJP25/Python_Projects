{
 "cells": [
  {
   "cell_type": "code",
   "execution_count": 1,
   "id": "grateful-violin",
   "metadata": {},
   "outputs": [],
   "source": [
    "import hashlib"
   ]
  },
  {
   "cell_type": "markdown",
   "id": "threatened-prospect",
   "metadata": {},
   "source": [
    "#### SHA 256"
   ]
  },
  {
   "cell_type": "code",
   "execution_count": 2,
   "id": "fluid-recovery",
   "metadata": {},
   "outputs": [
    {
     "name": "stdout",
     "output_type": "stream",
     "text": [
      "<sha256 HASH object @ 0x000001BEA7E1DC10>\n"
     ]
    }
   ],
   "source": [
    "str1 = \"Bhavesh Parakh\"\n",
    "\n",
    "# FIRST ENCODE STRING AND THEN APPLY HASHING\n",
    "hashed = hashlib.sha256(str1.encode())\n",
    "print(hashed)"
   ]
  },
  {
   "cell_type": "code",
   "execution_count": 4,
   "id": "subjective-victim",
   "metadata": {},
   "outputs": [
    {
     "data": {
      "text/plain": [
       "'16a166e565b9e9b838abaee67e99fe133263890c2550dfc8a45412de6f0df317'"
      ]
     },
     "execution_count": 4,
     "metadata": {},
     "output_type": "execute_result"
    }
   ],
   "source": [
    "# CONVERT TO HEXADECIMAL\n",
    "hashed.hexdigest()"
   ]
  },
  {
   "cell_type": "markdown",
   "id": "suffering-measurement",
   "metadata": {},
   "source": [
    "#### SHA384"
   ]
  },
  {
   "cell_type": "code",
   "execution_count": 5,
   "id": "chemical-appliance",
   "metadata": {},
   "outputs": [
    {
     "data": {
      "text/plain": [
       "'193bce6670c5f316323a00b991b9574a802f2450f51398e1036961419f3833a34470d895f8891b4f26da8f68fee3dcdd'"
      ]
     },
     "execution_count": 5,
     "metadata": {},
     "output_type": "execute_result"
    }
   ],
   "source": [
    "hashed = hashlib.sha384(str1.encode())\n",
    "hashed.hexdigest()"
   ]
  },
  {
   "cell_type": "markdown",
   "id": "nonprofit-bread",
   "metadata": {},
   "source": [
    "#### SHA224"
   ]
  },
  {
   "cell_type": "code",
   "execution_count": 6,
   "id": "dominican-activity",
   "metadata": {},
   "outputs": [
    {
     "data": {
      "text/plain": [
       "'9a5e6bee7c38a3c97fb233a138ebaf0c86376486083ce0183b744818'"
      ]
     },
     "execution_count": 6,
     "metadata": {},
     "output_type": "execute_result"
    }
   ],
   "source": [
    "hashed = hashlib.sha224(str1.encode())\n",
    "hashed.hexdigest()"
   ]
  },
  {
   "cell_type": "markdown",
   "id": "defensive-running",
   "metadata": {},
   "source": [
    "#### SHA 512"
   ]
  },
  {
   "cell_type": "code",
   "execution_count": 9,
   "id": "middle-alabama",
   "metadata": {},
   "outputs": [
    {
     "data": {
      "text/plain": [
       "'b25929365bb0aa5688753a5f4140abf9699288e34c56dc486443b319f15f440875324cfb801b0dcc049c8101e05f32f17035d6cba89ea0c8a959ba2df7b8f170'"
      ]
     },
     "execution_count": 9,
     "metadata": {},
     "output_type": "execute_result"
    }
   ],
   "source": [
    "hashed = hashlib.sha512(str1.encode())\n",
    "hashed.hexdigest()"
   ]
  },
  {
   "cell_type": "markdown",
   "id": "downtown-medicine",
   "metadata": {},
   "source": [
    "#### SHA1"
   ]
  },
  {
   "cell_type": "code",
   "execution_count": 10,
   "id": "linear-jacksonville",
   "metadata": {},
   "outputs": [
    {
     "data": {
      "text/plain": [
       "'62c56e46f0d82ba69ae62b47e02909682fe66b06'"
      ]
     },
     "execution_count": 10,
     "metadata": {},
     "output_type": "execute_result"
    }
   ],
   "source": [
    "hashed = hashlib.sha1(str1.encode())\n",
    "hashed.hexdigest()"
   ]
  },
  {
   "cell_type": "code",
   "execution_count": null,
   "id": "alone-scoop",
   "metadata": {},
   "outputs": [],
   "source": []
  }
 ],
 "metadata": {
  "kernelspec": {
   "display_name": "Python 3",
   "language": "python",
   "name": "python3"
  },
  "language_info": {
   "codemirror_mode": {
    "name": "ipython",
    "version": 3
   },
   "file_extension": ".py",
   "mimetype": "text/x-python",
   "name": "python",
   "nbconvert_exporter": "python",
   "pygments_lexer": "ipython3",
   "version": "3.6.12"
  }
 },
 "nbformat": 4,
 "nbformat_minor": 5
}
