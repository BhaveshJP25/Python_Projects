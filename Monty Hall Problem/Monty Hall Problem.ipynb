{
 "cells": [
  {
   "cell_type": "code",
   "execution_count": 1,
   "metadata": {},
   "outputs": [],
   "source": [
    "import numpy as np\n",
    "import random"
   ]
  },
  {
   "cell_type": "code",
   "execution_count": 2,
   "metadata": {},
   "outputs": [],
   "source": [
    "def montyHallProblem(winningDoor, selectedDoor, change=False):\n",
    "    \n",
    "    # Removes the door that is not selected neither winning\n",
    "    removedDoor = next(i for i in range(3) if i != selectedDoor and i != winningDoor)\n",
    "\n",
    "    # Change choice\n",
    "    if change:\n",
    "        selectedDoor = next(i for i in range(3) if i != selectedDoor and i != removedDoor)\n",
    "\n",
    "    # Never Change choice\n",
    "    return selectedDoor == winningDoor"
   ]
  },
  {
   "cell_type": "code",
   "execution_count": 3,
   "metadata": {},
   "outputs": [],
   "source": [
    "playerdoors = np.random.randint(0,3, (1000 * 1000 * 1))\n",
    "print(playerdoors)\n",
    "print(np.unique(playerdoors))"
   ]
  },
  {
   "cell_type": "code",
   "execution_count": 4,
   "metadata": {},
   "outputs": [
    {
     "name": "stdout",
     "output_type": "stream",
     "text": [
      "Winning percentage without changing choice:  0.33371\n",
      "Winning percentage while changing choice:  0.66629\n"
     ]
    }
   ],
   "source": [
    "winningdoors = [d for d in playerdoors if montyHallProblem(1, d)]\n",
    "print(\"Winning percentage without changing choice: \", len(winningdoors) / len(playerdoors))\n",
    "\n",
    "winningdoors = [d for d in playerdoors if montyHallProblem(1, d, change=True)]\n",
    "print(\"Winning percentage while changing choice: \", len(winningdoors) / len(playerdoors))"
   ]
  },
  {
   "cell_type": "code",
   "execution_count": null,
   "metadata": {},
   "outputs": [],
   "source": []
  }
 ],
 "metadata": {
  "kernelspec": {
   "display_name": "Python 3",
   "language": "python",
   "name": "python3"
  },
  "language_info": {
   "codemirror_mode": {
    "name": "ipython",
    "version": 3
   },
   "file_extension": ".py",
   "mimetype": "text/x-python",
   "name": "python",
   "nbconvert_exporter": "python",
   "pygments_lexer": "ipython3",
   "version": "3.6.12"
  }
 },
 "nbformat": 4,
 "nbformat_minor": 4
}
