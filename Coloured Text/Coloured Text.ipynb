{
 "cells": [
  {
   "cell_type": "code",
   "execution_count": 1,
   "metadata": {},
   "outputs": [],
   "source": [
    "import colorama\n",
    "from colorama import Fore, Back, Style\n",
    "colorama.init(autoreset=True)"
   ]
  },
  {
   "cell_type": "code",
   "execution_count": 2,
   "metadata": {},
   "outputs": [
    {
     "name": "stdout",
     "output_type": "stream",
     "text": [
      "Hi My name is Bhavesh Jayantilal Parakh I am a Student\n",
      "Hello My name is Bhavesh\n",
      "Hey My name is Bhavesh Parakh\n"
     ]
    }
   ],
   "source": [
    "print(Fore.BLUE+Back.YELLOW+\"Hi My name is Bhavesh Jayantilal Parakh \"+ Fore.YELLOW+ Back.BLUE+\"I am a Student\")\n",
    "print(Back.CYAN+\"Hello My name is Bhavesh\")\n",
    "print(Fore.RED + Back.GREEN+ \"Hey My name is Bhavesh Parakh\")"
   ]
  },
  {
   "cell_type": "code",
   "execution_count": null,
   "metadata": {},
   "outputs": [],
   "source": []
  }
 ],
 "metadata": {
  "kernelspec": {
   "display_name": "Python 3",
   "language": "python",
   "name": "python3"
  },
  "language_info": {
   "codemirror_mode": {
    "name": "ipython",
    "version": 3
   },
   "file_extension": ".py",
   "mimetype": "text/x-python",
   "name": "python",
   "nbconvert_exporter": "python",
   "pygments_lexer": "ipython3",
   "version": "3.6.12"
  }
 },
 "nbformat": 4,
 "nbformat_minor": 4
}
