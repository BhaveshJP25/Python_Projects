{
 "cells": [
  {
   "cell_type": "code",
   "execution_count": 1,
   "id": "reflected-diesel",
   "metadata": {},
   "outputs": [],
   "source": [
    "from time import time"
   ]
  },
  {
   "cell_type": "code",
   "execution_count": 2,
   "id": "professional-twins",
   "metadata": {},
   "outputs": [],
   "source": [
    "def typingErrors(prompt):\n",
    "    global iwords\n",
    "\n",
    "    words = prompt.split()\n",
    "    errors = 0\n",
    "\n",
    "    for i in range(len(iwords)):\n",
    "        if iwords[i] == words[i]:\n",
    "            continue\n",
    "        else:\n",
    "            errors +=1\n",
    "    return errors"
   ]
  },
  {
   "cell_type": "code",
   "execution_count": 3,
   "id": "suspended-correlation",
   "metadata": {},
   "outputs": [],
   "source": [
    "# Speed : Words/min\n",
    "def typingSpeed(iprompt, stime, etime):\n",
    "    global time\n",
    "    global iwords\n",
    "    iwords = iprompt.split()\n",
    "    return len(iwords) / time"
   ]
  },
  {
   "cell_type": "code",
   "execution_count": 4,
   "id": "second-grade",
   "metadata": {},
   "outputs": [],
   "source": [
    "# Total Time\n",
    "def timeElapsed(stime, etime):\n",
    "    return etime - stime"
   ]
  },
  {
   "cell_type": "code",
   "execution_count": 5,
   "id": "basic-airline",
   "metadata": {},
   "outputs": [
    {
     "name": "stdout",
     "output_type": "stream",
     "text": [
      "Type this:- ' Hello, my name is Bhavesh Parakh. I am a student. '\n",
      "press ENTER when you are ready!Enter\n",
      "Hello, mu name is Bhavesh Parakh. I am a Stdnt.\n",
      "Total Time Elapsed :  23.72 s\n",
      "Your Average Typing Speed was :  0.4215851602023609 words / minute\n",
      "With a total of :  2 errors\n"
     ]
    }
   ],
   "source": [
    "if __name__ == '__main__':\n",
    "    prompt = \"Hello, my name is Bhavesh Parakh. I am a student.\"\n",
    "    print(\"Type this:- '\", prompt, \"'\")\n",
    "\n",
    "    # listening to input ENTER\n",
    "    input(\"press ENTER when you are ready!\")\n",
    "\n",
    "    # recording time for input\n",
    "    stime = time()\n",
    "    iprompt = input()\n",
    "    etime = time()\n",
    "\n",
    "    # gather all the information returned from functions\n",
    "    time = round(timeElapsed(stime, etime), 2)\n",
    "    speed = typingSpeed(iprompt, stime, etime)\n",
    "    errors = typingErrors(prompt)\n",
    "\n",
    "    # printing all the required data\n",
    "    print(\"Total Time Elapsed : \", time, \"s\")\n",
    "    print(\"Your Average Typing Speed was : \", speed, \"words / minute\")\n",
    "    print(\"With a total of : \", errors, \"errors\")\n"
   ]
  },
  {
   "cell_type": "code",
   "execution_count": null,
   "id": "original-overall",
   "metadata": {},
   "outputs": [],
   "source": []
  }
 ],
 "metadata": {
  "kernelspec": {
   "display_name": "Python 3",
   "language": "python",
   "name": "python3"
  },
  "language_info": {
   "codemirror_mode": {
    "name": "ipython",
    "version": 3
   },
   "file_extension": ".py",
   "mimetype": "text/x-python",
   "name": "python",
   "nbconvert_exporter": "python",
   "pygments_lexer": "ipython3",
   "version": "3.6.12"
  }
 },
 "nbformat": 4,
 "nbformat_minor": 5
}
