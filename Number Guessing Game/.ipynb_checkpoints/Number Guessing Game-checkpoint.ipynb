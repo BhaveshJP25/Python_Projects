{
 "cells": [
  {
   "cell_type": "code",
   "execution_count": 1,
   "id": "uniform-neighborhood",
   "metadata": {},
   "outputs": [],
   "source": [
    "import random"
   ]
  },
  {
   "cell_type": "code",
   "execution_count": 2,
   "id": "collaborative-envelope",
   "metadata": {},
   "outputs": [
    {
     "name": "stdout",
     "output_type": "stream",
     "text": [
      "Guess A Number Between 0 - 100 : 52\n",
      "Too Low\n",
      "Enter Number Again : 62\n",
      "Too Low\n",
      "Enter Number Again : 72\n",
      "Too Low\n",
      "Enter Number Again : 82\n",
      "Close\n",
      "Enter Number Again : 92\n",
      "Too High\n",
      "Enter Number Again : 87\n",
      "Too High\n",
      "Enter Number Again : 75\n",
      "Close\n",
      "Enter Number Again : 77\n",
      "Close\n",
      "Enter Number Again : 78\n",
      "You Guesses It Right\n"
     ]
    }
   ],
   "source": [
    "no = int(input(\"Guess A Number Between 0 - 100 : \"))\n",
    "\n",
    "randomNo = random.randrange(101)\n",
    "\n",
    "while (randomNo != no):\n",
    "    if(abs(no-randomNo) < 5):\n",
    "        print(\"Close\")\n",
    "        no = int(input(\"Enter Number Again : \"))\n",
    "    elif(no > randomNo):\n",
    "        print(\"Too High\")\n",
    "        no = int(input(\"Enter Number Again : \"))\n",
    "    elif(no < randomNo):\n",
    "        print(\"Too Low\")\n",
    "        no = int(input(\"Enter Number Again : \"))\n",
    "\n",
    "print(\"You Guesses It Right\")"
   ]
  },
  {
   "cell_type": "code",
   "execution_count": null,
   "id": "tight-bahamas",
   "metadata": {},
   "outputs": [],
   "source": []
  }
 ],
 "metadata": {
  "kernelspec": {
   "display_name": "Python 3",
   "language": "python",
   "name": "python3"
  },
  "language_info": {
   "codemirror_mode": {
    "name": "ipython",
    "version": 3
   },
   "file_extension": ".py",
   "mimetype": "text/x-python",
   "name": "python",
   "nbconvert_exporter": "python",
   "pygments_lexer": "ipython3",
   "version": "3.6.12"
  }
 },
 "nbformat": 4,
 "nbformat_minor": 5
}
