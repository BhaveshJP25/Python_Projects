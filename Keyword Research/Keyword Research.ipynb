{
 "cells": [
  {
   "cell_type": "markdown",
   "id": "adapted-crash",
   "metadata": {},
   "source": [
    "#### KeyWord Wise Search According To Region"
   ]
  },
  {
   "cell_type": "code",
   "execution_count": 1,
   "id": "radio-growth",
   "metadata": {},
   "outputs": [],
   "source": [
    "import pandas as pd\n",
    "from pytrends.request import TrendReq\n",
    "import seaborn as sns\n",
    "trends = TrendReq()"
   ]
  },
  {
   "cell_type": "code",
   "execution_count": 2,
   "id": "single-reservation",
   "metadata": {},
   "outputs": [
    {
     "name": "stdout",
     "output_type": "stream",
     "text": [
      "                          Data Science\n",
      "geoName                               \n",
      "Gabon                                0\n",
      "Fiji                                 0\n",
      "Macao                                0\n",
      "Mauritius                            0\n",
      "Vietnam                             16\n",
      "South Sudan                          0\n",
      "Honduras                             0\n",
      "Samoa                                0\n",
      "Seychelles                           0\n",
      "St. Vincent & Grenadines             0\n"
     ]
    }
   ],
   "source": [
    "trends.build_payload(kw_list=[\"Data Science\"])\n",
    "data = trends.interest_by_region()\n",
    "print(data.sample(10))"
   ]
  },
  {
   "cell_type": "code",
   "execution_count": 3,
   "id": "heavy-crown",
   "metadata": {},
   "outputs": [
    {
     "data": {
      "text/html": [
       "<div>\n",
       "<style scoped>\n",
       "    .dataframe tbody tr th:only-of-type {\n",
       "        vertical-align: middle;\n",
       "    }\n",
       "\n",
       "    .dataframe tbody tr th {\n",
       "        vertical-align: top;\n",
       "    }\n",
       "\n",
       "    .dataframe thead th {\n",
       "        text-align: right;\n",
       "    }\n",
       "</style>\n",
       "<table border=\"1\" class=\"dataframe\">\n",
       "  <thead>\n",
       "    <tr style=\"text-align: right;\">\n",
       "      <th></th>\n",
       "      <th>Data Science</th>\n",
       "    </tr>\n",
       "    <tr>\n",
       "      <th>geoName</th>\n",
       "      <th></th>\n",
       "    </tr>\n",
       "  </thead>\n",
       "  <tbody>\n",
       "    <tr>\n",
       "      <th>Singapore</th>\n",
       "      <td>100</td>\n",
       "    </tr>\n",
       "    <tr>\n",
       "      <th>China</th>\n",
       "      <td>93</td>\n",
       "    </tr>\n",
       "    <tr>\n",
       "      <th>India</th>\n",
       "      <td>83</td>\n",
       "    </tr>\n",
       "    <tr>\n",
       "      <th>Nepal</th>\n",
       "      <td>65</td>\n",
       "    </tr>\n",
       "    <tr>\n",
       "      <th>St. Helena</th>\n",
       "      <td>65</td>\n",
       "    </tr>\n",
       "    <tr>\n",
       "      <th>...</th>\n",
       "      <td>...</td>\n",
       "    </tr>\n",
       "    <tr>\n",
       "      <th>Guinea-Bissau</th>\n",
       "      <td>0</td>\n",
       "    </tr>\n",
       "    <tr>\n",
       "      <th>Guyana</th>\n",
       "      <td>0</td>\n",
       "    </tr>\n",
       "    <tr>\n",
       "      <th>Haiti</th>\n",
       "      <td>0</td>\n",
       "    </tr>\n",
       "    <tr>\n",
       "      <th>Heard &amp; McDonald Islands</th>\n",
       "      <td>0</td>\n",
       "    </tr>\n",
       "    <tr>\n",
       "      <th>Åland Islands</th>\n",
       "      <td>0</td>\n",
       "    </tr>\n",
       "  </tbody>\n",
       "</table>\n",
       "<p>250 rows × 1 columns</p>\n",
       "</div>"
      ],
      "text/plain": [
       "                          Data Science\n",
       "geoName                               \n",
       "Singapore                          100\n",
       "China                               93\n",
       "India                               83\n",
       "Nepal                               65\n",
       "St. Helena                          65\n",
       "...                                ...\n",
       "Guinea-Bissau                        0\n",
       "Guyana                               0\n",
       "Haiti                                0\n",
       "Heard & McDonald Islands             0\n",
       "Åland Islands                        0\n",
       "\n",
       "[250 rows x 1 columns]"
      ]
     },
     "execution_count": 3,
     "metadata": {},
     "output_type": "execute_result"
    }
   ],
   "source": [
    "data.sort_values(by=\"Data Science\", ascending=False, inplace=True)\n",
    "data"
   ]
  },
  {
   "cell_type": "code",
   "execution_count": 4,
   "id": "clinical-helicopter",
   "metadata": {},
   "outputs": [
    {
     "data": {
      "text/html": [
       "<div>\n",
       "<style scoped>\n",
       "    .dataframe tbody tr th:only-of-type {\n",
       "        vertical-align: middle;\n",
       "    }\n",
       "\n",
       "    .dataframe tbody tr th {\n",
       "        vertical-align: top;\n",
       "    }\n",
       "\n",
       "    .dataframe thead th {\n",
       "        text-align: right;\n",
       "    }\n",
       "</style>\n",
       "<table border=\"1\" class=\"dataframe\">\n",
       "  <thead>\n",
       "    <tr style=\"text-align: right;\">\n",
       "      <th></th>\n",
       "      <th>Data Science</th>\n",
       "    </tr>\n",
       "    <tr>\n",
       "      <th>geoName</th>\n",
       "      <th></th>\n",
       "    </tr>\n",
       "  </thead>\n",
       "  <tbody>\n",
       "    <tr>\n",
       "      <th>Singapore</th>\n",
       "      <td>100</td>\n",
       "    </tr>\n",
       "    <tr>\n",
       "      <th>China</th>\n",
       "      <td>93</td>\n",
       "    </tr>\n",
       "    <tr>\n",
       "      <th>India</th>\n",
       "      <td>83</td>\n",
       "    </tr>\n",
       "    <tr>\n",
       "      <th>Nepal</th>\n",
       "      <td>65</td>\n",
       "    </tr>\n",
       "    <tr>\n",
       "      <th>St. Helena</th>\n",
       "      <td>65</td>\n",
       "    </tr>\n",
       "    <tr>\n",
       "      <th>Ghana</th>\n",
       "      <td>57</td>\n",
       "    </tr>\n",
       "    <tr>\n",
       "      <th>Nigeria</th>\n",
       "      <td>55</td>\n",
       "    </tr>\n",
       "    <tr>\n",
       "      <th>Pakistan</th>\n",
       "      <td>54</td>\n",
       "    </tr>\n",
       "    <tr>\n",
       "      <th>Kenya</th>\n",
       "      <td>52</td>\n",
       "    </tr>\n",
       "    <tr>\n",
       "      <th>Hong Kong</th>\n",
       "      <td>51</td>\n",
       "    </tr>\n",
       "  </tbody>\n",
       "</table>\n",
       "</div>"
      ],
      "text/plain": [
       "            Data Science\n",
       "geoName                 \n",
       "Singapore            100\n",
       "China                 93\n",
       "India                 83\n",
       "Nepal                 65\n",
       "St. Helena            65\n",
       "Ghana                 57\n",
       "Nigeria               55\n",
       "Pakistan              54\n",
       "Kenya                 52\n",
       "Hong Kong             51"
      ]
     },
     "execution_count": 4,
     "metadata": {},
     "output_type": "execute_result"
    }
   ],
   "source": [
    "df = data.head(10)\n",
    "df"
   ]
  },
  {
   "cell_type": "code",
   "execution_count": 5,
   "id": "rolled-astrology",
   "metadata": {},
   "outputs": [
    {
     "data": {
      "text/plain": [
       "<AxesSubplot:xlabel='geoName', ylabel='Data Science'>"
      ]
     },
     "execution_count": 5,
     "metadata": {},
     "output_type": "execute_result"
    },
    {
     "data": {
      "image/png": "[encoded data removed]",
      "text/plain": [
       "<Figure size 842.4x595.44 with 1 Axes>"
      ]
     },
     "metadata": {},
     "output_type": "display_data"
    }
   ],
   "source": [
    "sns.set(rc={'figure.figsize':(11.7,8.27)})\n",
    "sns.barplot(x=df.index, y=\"Data Science\", data=df)"
   ]
  },
  {
   "cell_type": "markdown",
   "id": "european-spectacular",
   "metadata": {},
   "source": [
    "#### Top Searches In India"
   ]
  },
  {
   "cell_type": "code",
   "execution_count": 6,
   "id": "quantitative-penetration",
   "metadata": {},
   "outputs": [
    {
     "name": "stdout",
     "output_type": "stream",
     "text": [
      "                                        0\n",
      "0                Australia vs New Zealand\n",
      "1                      Juventus vs Spezia\n",
      "2                      Man City vs Wolves\n",
      "3                         Shraddha Kapoor\n",
      "4                      World Wildlife Day\n",
      "5                Shraddha Kapoor Birthday\n",
      "6                                    HPCL\n",
      "7                             Ajay Devgan\n",
      "8                       IRCON share price\n",
      "9  ग्राम पंचायत चुनाव 2021 आरक्षण सूची UP\n"
     ]
    }
   ],
   "source": [
    "data = trends.trending_searches(pn=\"india\")\n",
    "print(data.head(10))"
   ]
  },
  {
   "cell_type": "markdown",
   "id": "saved-representation",
   "metadata": {},
   "source": [
    "#### Markdown Suggestion"
   ]
  },
  {
   "cell_type": "code",
   "execution_count": 7,
   "id": "lasting-details",
   "metadata": {},
   "outputs": [
    {
     "data": {
      "text/html": [
       "<div>\n",
       "<style scoped>\n",
       "    .dataframe tbody tr th:only-of-type {\n",
       "        vertical-align: middle;\n",
       "    }\n",
       "\n",
       "    .dataframe tbody tr th {\n",
       "        vertical-align: top;\n",
       "    }\n",
       "\n",
       "    .dataframe thead th {\n",
       "        text-align: right;\n",
       "    }\n",
       "</style>\n",
       "<table border=\"1\" class=\"dataframe\">\n",
       "  <thead>\n",
       "    <tr style=\"text-align: right;\">\n",
       "      <th></th>\n",
       "      <th>mid</th>\n",
       "      <th>title</th>\n",
       "      <th>type</th>\n",
       "    </tr>\n",
       "  </thead>\n",
       "  <tbody>\n",
       "    <tr>\n",
       "      <th>0</th>\n",
       "      <td>/m/026ly6t</td>\n",
       "      <td>Bhiwandi</td>\n",
       "      <td>City in India</td>\n",
       "    </tr>\n",
       "    <tr>\n",
       "      <th>1</th>\n",
       "      <td>/m/02npjd</td>\n",
       "      <td>Solapur</td>\n",
       "      <td>City in India</td>\n",
       "    </tr>\n",
       "    <tr>\n",
       "      <th>2</th>\n",
       "      <td>/m/0f4_1w</td>\n",
       "      <td>Ichalkaranji</td>\n",
       "      <td>City in India</td>\n",
       "    </tr>\n",
       "    <tr>\n",
       "      <th>3</th>\n",
       "      <td>/m/0d3syn</td>\n",
       "      <td>Ahmedabad textile industry</td>\n",
       "      <td>Topic</td>\n",
       "    </tr>\n",
       "    <tr>\n",
       "      <th>4</th>\n",
       "      <td>/m/02qq_gt</td>\n",
       "      <td>Deccan Riots</td>\n",
       "      <td>Topic</td>\n",
       "    </tr>\n",
       "  </tbody>\n",
       "</table>\n",
       "</div>"
      ],
      "text/plain": [
       "          mid                       title           type\n",
       "0  /m/026ly6t                    Bhiwandi  City in India\n",
       "1   /m/02npjd                     Solapur  City in India\n",
       "2   /m/0f4_1w                Ichalkaranji  City in India\n",
       "3   /m/0d3syn  Ahmedabad textile industry          Topic\n",
       "4  /m/02qq_gt                Deccan Riots          Topic"
      ]
     },
     "execution_count": 7,
     "metadata": {},
     "output_type": "execute_result"
    }
   ],
   "source": [
    "keyword = trends.suggestions(keyword=\"Manchester Of Maharashtra\")\n",
    "data = pd.DataFrame(keyword)\n",
    "data"
   ]
  },
  {
   "cell_type": "code",
   "execution_count": null,
   "id": "greater-budapest",
   "metadata": {},
   "outputs": [],
   "source": []
  }
 ],
 "metadata": {
  "kernelspec": {
   "display_name": "Python 3",
   "language": "python",
   "name": "python3"
  },
  "language_info": {
   "codemirror_mode": {
    "name": "ipython",
    "version": 3
   },
   "file_extension": ".py",
   "mimetype": "text/x-python",
   "name": "python",
   "nbconvert_exporter": "python",
   "pygments_lexer": "ipython3",
   "version": "3.6.12"
  }
 },
 "nbformat": 4,
 "nbformat_minor": 5
}
