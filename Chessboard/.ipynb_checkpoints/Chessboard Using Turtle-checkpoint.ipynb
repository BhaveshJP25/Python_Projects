{
 "cells": [
  {
   "cell_type": "code",
   "execution_count": 1,
   "id": "lucky-studio",
   "metadata": {},
   "outputs": [],
   "source": [
    "import turtle"
   ]
  },
  {
   "cell_type": "code",
   "execution_count": 2,
   "id": "chinese-recall",
   "metadata": {},
   "outputs": [],
   "source": [
    "# create turtle object \n",
    "pen = turtle.Turtle() "
   ]
  },
  {
   "cell_type": "code",
   "execution_count": 3,
   "id": "opened-fellowship",
   "metadata": {},
   "outputs": [],
   "source": [
    "def draw(): \n",
    "   \n",
    "  for i in range(4): \n",
    "    pen.forward(30) \n",
    "    pen.left(90) \n",
    "   \n",
    "  pen.forward(30)"
   ]
  },
  {
   "cell_type": "code",
   "execution_count": 4,
   "id": "civilian-shooting",
   "metadata": {},
   "outputs": [
    {
     "data": {
      "text/plain": [
       "'0 320 moveto\\n-9 325 lineto\\n-7 320 lineto\\n-9 315 lineto\\n0 320 lineto\\n0.000 0.000 0.000 setrgbcolor AdjustColor\\neofill\\n0 320 moveto\\n-9 325 lineto\\n-7 320 lineto\\n-9 315 lineto\\n0 320 lineto\\n1 setlinejoin 1 setlinecap\\n1 setlinewidth\\n[] 0 setdash\\n0.000 0.000 0.000 setrgbcolor AdjustColor\\nstroke\\n'"
      ]
     },
     "execution_count": 4,
     "metadata": {},
     "output_type": "execute_result"
    }
   ],
   "source": [
    "if __name__ == \"__main__\" : \n",
    "\n",
    "    # set turtle object speed \n",
    "    pen.speed(10) \n",
    "       \n",
    "    for i in range(8): \n",
    "       \n",
    "      # not ready to draw \n",
    "      pen.up() \n",
    "       \n",
    "      # set position for every row \n",
    "      pen.setpos(0, 30 * i) \n",
    "       \n",
    "      # ready to draw \n",
    "      pen.down() \n",
    "       \n",
    "      # row \n",
    "      for j in range(8): \n",
    "       \n",
    "        # conditions for alternative color \n",
    "        if (i + j)% 2 == 0: \n",
    "          col ='black'   \n",
    "        else: \n",
    "          col ='white'\n",
    "       \n",
    "        pen.fillcolor(col) \n",
    "       \n",
    "        # start filling with colour \n",
    "        pen.begin_fill() \n",
    "       \n",
    "        # call method \n",
    "        draw() \n",
    "        # stop filling \n",
    "        pen.end_fill() \n",
    "       \n",
    "    # hide the turtle \n",
    "    pen.hideturtle() "
   ]
  },
  {
   "cell_type": "code",
   "execution_count": null,
   "id": "future-consensus",
   "metadata": {},
   "outputs": [],
   "source": []
  }
 ],
 "metadata": {
  "kernelspec": {
   "display_name": "Python 3",
   "language": "python",
   "name": "python3"
  },
  "language_info": {
   "codemirror_mode": {
    "name": "ipython",
    "version": 3
   },
   "file_extension": ".py",
   "mimetype": "text/x-python",
   "name": "python",
   "nbconvert_exporter": "python",
   "pygments_lexer": "ipython3",
   "version": "3.6.12"
  }
 },
 "nbformat": 4,
 "nbformat_minor": 5
}
